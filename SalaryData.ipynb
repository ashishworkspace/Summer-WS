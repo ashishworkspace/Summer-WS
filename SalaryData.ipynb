{
 "cells": [
  {
   "cell_type": "code",
   "execution_count": null,
   "id": "ce22c184",
   "metadata": {},
   "outputs": [],
   "source": [
    "#importig module \n",
    "import pandas as pd\n",
    "from sklearn.linear_model import LinearRegression"
   ]
  },
  {
   "cell_type": "code",
   "execution_count": null,
   "id": "08bdeff4",
   "metadata": {},
   "outputs": [],
   "source": [
    "# storing the dataset inside a variable\n",
    "db = pd.read_csv('SalaryData.csv')"
   ]
  },
  {
   "cell_type": "code",
   "execution_count": null,
   "id": "b273445b",
   "metadata": {},
   "outputs": [],
   "source": [
    "# retriving all the column name\n",
    "db.columns"
   ]
  },
  {
   "cell_type": "code",
   "execution_count": null,
   "id": "1b1ae298",
   "metadata": {},
   "outputs": [],
   "source": [
    "# storing x and y\n",
    "x = db['YearsExperience']\n",
    "y = db['Salary']"
   ]
  },
  {
   "cell_type": "code",
   "execution_count": null,
   "id": "55d835e9",
   "metadata": {},
   "outputs": [],
   "source": [
    "# storing the LinearRegression function inside a variable\n",
    "model = LinearRegression()"
   ]
  },
  {
   "cell_type": "code",
   "execution_count": null,
   "id": "ebe702a7",
   "metadata": {},
   "outputs": [],
   "source": [
    "# checking the dimesion on x variable\n",
    "x.shape"
   ]
  },
  {
   "cell_type": "code",
   "execution_count": null,
   "id": "3c935fb9",
   "metadata": {},
   "outputs": [],
   "source": [
    "# Since the fit function require 2D array \n",
    "# and reshape function do not work on pandas library\n",
    "# therefore we need to first convert them into numpy \n",
    "# this could be done by values method\n",
    "x = x.values"
   ]
  },
  {
   "cell_type": "code",
   "execution_count": null,
   "id": "99ad9f6e",
   "metadata": {},
   "outputs": [],
   "source": [
    "# converting 1D into 2D array\n",
    "x = x.reshape(30,1)"
   ]
  },
  {
   "cell_type": "code",
   "execution_count": null,
   "id": "b0ba256d",
   "metadata": {},
   "outputs": [],
   "source": [
    "# traning the model using the Linear Regression\n",
    "model.fit(x, y)"
   ]
  },
  {
   "cell_type": "code",
   "execution_count": null,
   "id": "d8ae9f05",
   "metadata": {},
   "outputs": [],
   "source": [
    "# finding the value of m in Linear regression Equation ( y = mx +c )\n",
    "model.coef_"
   ]
  },
  {
   "cell_type": "code",
   "execution_count": null,
   "id": "b6037c77",
   "metadata": {},
   "outputs": [],
   "source": [
    "# logic part for predicting data\n",
    "while True:\n",
    "    user_input = input(\"Enter the year of Experience or press exit: \")\n",
    "    if user_input == \"exit\":\n",
    "        break\n",
    "    elif float(user_input) >= 0:\n",
    "        value = model.predict([[user_input]])\n",
    "        print(\"The salary you will get is: {}\".format(value.tolist()[0]))"
   ]
  }
 ],
 "metadata": {
  "kernelspec": {
   "display_name": "Python 3",
   "language": "python",
   "name": "python3"
  },
  "language_info": {
   "codemirror_mode": {
    "name": "ipython",
    "version": 3
   },
   "file_extension": ".py",
   "mimetype": "text/x-python",
   "name": "python",
   "nbconvert_exporter": "python",
   "pygments_lexer": "ipython3",
   "version": "3.8.8"
  }
 },
 "nbformat": 4,
 "nbformat_minor": 5
}
